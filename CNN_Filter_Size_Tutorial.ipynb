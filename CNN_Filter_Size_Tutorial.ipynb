{
 "cells": [
  {
   "cell_type": "markdown",
   "id": "9a2d831a",
   "metadata": {},
   "source": [
    "# Filter Size Impact on CNN Feature Extraction\n",
    "\n",
    "This notebook demonstrates how varying convolutional filter sizes (3x3, 5x5, 7x7) impact feature extraction in CNNs using the MNIST dataset."
   ]
  },
  {
   "cell_type": "code",
   "execution_count": 1,
   "id": "a8eb1870",
   "metadata": {},
   "outputs": [],
   "source": [
    "import numpy as np\n",
    "import matplotlib.pyplot as plt\n",
    "from tensorflow.keras.datasets import mnist\n",
    "from tensorflow.keras.layers import Input, Conv2D, MaxPooling2D, Flatten, Dense\n",
    "from tensorflow.keras.models import Model\n",
    "from tensorflow.keras.utils import to_categorical\n",
    "import warnings\n",
    "warnings.filterwarnings(\"ignore\")"
   ]
  },
  {
   "cell_type": "markdown",
   "id": "76c7d721",
   "metadata": {},
   "source": [
    "## Load and Preprocess MNIST Data"
   ]
  },
  {
   "cell_type": "code",
   "execution_count": 3,
   "id": "3c80b85d",
   "metadata": {},
   "outputs": [],
   "source": [
    "# Load the MNIST dataset\n",
    "(x_train, y_train), (x_test, y_test) = mnist.load_data()\n",
    "\n",
    "# Reshape and normalize the data\n",
    "x_train = x_train.reshape((-1, 28, 28, 1)).astype('float32') / 255.0\n",
    "x_test = x_test.reshape((-1, 28, 28, 1)).astype('float32') / 255.0\n",
    "\n",
    "# One-hot encode labels\n",
    "y_train = to_categorical(y_train, 10)\n",
    "y_test = to_categorical(y_test, 10)"
   ]
  },
  {
   "cell_type": "markdown",
   "id": "d1329a71",
   "metadata": {},
   "source": [
    "## Define CNN Model"
   ]
  },
  {
   "cell_type": "code",
   "execution_count": 5,
   "id": "b94e4f3f",
   "metadata": {},
   "outputs": [],
   "source": [
    "# Function to build CNN model with given filter size\n",
    "def build_cnn(filter_size):\n",
    "    inputs = Input(shape=(28, 28, 1))\n",
    "    x = Conv2D(32, (filter_size, filter_size), activation='relu', padding='same')(inputs)\n",
    "    x = MaxPooling2D((2, 2))(x)\n",
    "    x = Flatten()(x)\n",
    "    x = Dense(64, activation='relu')(x)\n",
    "    outputs = Dense(10, activation='softmax')(x)\n",
    "    return Model(inputs, outputs)"
   ]
  },
  {
   "cell_type": "markdown",
   "id": "710a46b9",
   "metadata": {},
   "source": [
    "## Train and Evaluate Models with Different Filter Sizes"
   ]
  },
  {
   "cell_type": "code",
   "execution_count": 9,
   "id": "d1240286",
   "metadata": {},
   "outputs": [
    {
     "name": "stdout",
     "output_type": "stream",
     "text": [
      "Model Performance:\n",
      "3x3 Filter - Test Accuracy: 0.9853, Test Loss: 0.0466\n",
      "5x5 Filter - Test Accuracy: 0.9893, Test Loss: 0.0346\n",
      "7x7 Filter - Test Accuracy: 0.9892, Test Loss: 0.0351\n"
     ]
    }
   ],
   "source": [
    "filter_sizes = [3, 5, 7]\n",
    "histories = {}\n",
    "results = {}\n",
    "\n",
    "for size in filter_sizes:\n",
    "    model = build_cnn(size)\n",
    "    model.compile(optimizer='adam', loss='categorical_crossentropy', metrics=['accuracy'])\n",
    "    history = model.fit(x_train, y_train, epochs=5, batch_size=128, validation_data=(x_test, y_test), verbose=0)\n",
    "    test_loss, test_acc = model.evaluate(x_test, y_test, verbose=0)\n",
    "    histories[size] = history\n",
    "    results[size] = (test_acc, test_loss)\n",
    "\n",
    "print(\"Model Performance:\")\n",
    "for size in filter_sizes:\n",
    "    acc, loss = results[size]\n",
    "    print(f\"{size}x{size} Filter - Test Accuracy: {acc:.4f}, Test Loss: {loss:.4f}\")"
   ]
  },
  {
   "cell_type": "markdown",
   "id": "14b0ca66",
   "metadata": {},
   "source": [
    "## Visualize Filter Effects on a Sample Image"
   ]
  },
  {
   "cell_type": "code",
   "execution_count": 11,
   "id": "8b745523",
   "metadata": {},
   "outputs": [
    {
     "data": {
      "image/png": "[encoded data removed]",
      "text/plain": [
       "<Figure size 640x480 with 1 Axes>"
      ]
     },
     "metadata": {},
     "output_type": "display_data"
    }
   ],
   "source": [
    "# Take a sample test image\n",
    "sample_image = x_test[0:1]\n",
    "\n",
    "# Display original image\n",
    "plt.imshow(sample_image[0, :, :, 0], cmap='viridis')\n",
    "plt.title(\"Original Image\")\n",
    "plt.axis('off')\n",
    "plt.show()"
   ]
  },
  {
   "cell_type": "markdown",
   "id": "997d05f0",
   "metadata": {},
   "source": [
    "## Apply Filters and Edge Detection"
   ]
  },
  {
   "cell_type": "code",
   "execution_count": 13,
   "id": "352a2ba6",
   "metadata": {},
   "outputs": [],
   "source": [
    "# Function to apply a filter and return the output\n",
    "def apply_filter(image, filter_size):\n",
    "    input_layer = Input(shape=image.shape[1:])\n",
    "    conv_layer = Conv2D(1, filter_size, activation='relu', padding='same')(input_layer)\n",
    "    model = Model(inputs=input_layer, outputs=conv_layer)\n",
    "    return model.predict(image)\n",
    "\n",
    "# Function to apply custom kernel (e.g., edge detection)\n",
    "def apply_custom_filter(image, custom_kernel):\n",
    "    input_layer = Input(shape=image.shape[1:])\n",
    "    conv_layer = Conv2D(1, custom_kernel.shape, activation='relu', padding='same')(input_layer)\n",
    "    model = Model(inputs=input_layer, outputs=conv_layer)\n",
    "    kernel = np.expand_dims(np.expand_dims(custom_kernel, axis=-1), axis=-1)\n",
    "    model.layers[1].set_weights([kernel, np.zeros(1)])\n",
    "    return model.predict(image)"
   ]
  },
  {
   "cell_type": "code",
   "execution_count": 15,
   "id": "cbf09e1f",
   "metadata": {},
   "outputs": [
    {
     "name": "stdout",
     "output_type": "stream",
     "text": [
      "\u001b[1m1/1\u001b[0m \u001b[32m━━━━━━━━━━━━━━━━━━━━\u001b[0m\u001b[37m\u001b[0m \u001b[1m0s\u001b[0m 64ms/step\n",
      "\u001b[1m1/1\u001b[0m \u001b[32m━━━━━━━━━━━━━━━━━━━━\u001b[0m\u001b[37m\u001b[0m \u001b[1m0s\u001b[0m 54ms/step\n",
      "\u001b[1m1/1\u001b[0m \u001b[32m━━━━━━━━━━━━━━━━━━━━\u001b[0m\u001b[37m\u001b[0m \u001b[1m0s\u001b[0m 57ms/step\n",
      "\u001b[1m1/1\u001b[0m \u001b[32m━━━━━━━━━━━━━━━━━━━━\u001b[0m\u001b[37m\u001b[0m \u001b[1m0s\u001b[0m 59ms/step\n"
     ]
    }
   ],
   "source": [
    "# Apply 3x3, 5x5, 7x7 filters\n",
    "filtered_3x3 = apply_filter(sample_image, (3, 3))\n",
    "filtered_5x5 = apply_filter(sample_image, (5, 5))\n",
    "filtered_7x7 = apply_filter(sample_image, (7, 7))\n",
    "\n",
    "# Define and apply custom edge detection filter\n",
    "edge_filter = np.array([[-1, -1, -1],\n",
    "                        [-1,  8, -1],\n",
    "                        [-1, -1, -1]])\n",
    "custom_filtered = apply_custom_filter(sample_image, edge_filter)"
   ]
  },
  {
   "cell_type": "markdown",
   "id": "96f21d9f",
   "metadata": {},
   "source": [
    "## Plot Original and Filtered Images"
   ]
  },
  {
   "cell_type": "code",
   "execution_count": 17,
   "id": "562ea112",
   "metadata": {},
   "outputs": [
    {
     "data": {
      "image/png": "[encoded data removed]",
      "text/plain": [
       "<Figure size 1500x400 with 5 Axes>"
      ]
     },
     "metadata": {},
     "output_type": "display_data"
    }
   ],
   "source": [
    "titles = ['Original', '3x3 Filter', '5x5 Filter', '7x7 Filter', 'Edge Detection']\n",
    "images = [sample_image[0, :, :, 0], filtered_3x3[0, :, :, 0], filtered_5x5[0, :, :, 0],\n",
    "          filtered_7x7[0, :, :, 0], custom_filtered[0, :, :, 0]]\n",
    "\n",
    "plt.figure(figsize=(15, 4))\n",
    "for i in range(5):\n",
    "    plt.subplot(1, 5, i+1)\n",
    "    plt.imshow(images[i], cmap='viridis')\n",
    "    plt.title(titles[i])\n",
    "    plt.axis('off')\n",
    "plt.show()"
   ]
  },
  {
   "cell_type": "code",
   "execution_count": null,
   "id": "396dc5d4-a0dc-4de8-b4f9-a59317fb8cf7",
   "metadata": {},
   "outputs": [],
   "source": []
  }
 ],
 "metadata": {
  "kernelspec": {
   "display_name": "Python 3 (ipykernel)",
   "language": "python",
   "name": "python3"
  },
  "language_info": {
   "codemirror_mode": {
    "name": "ipython",
    "version": 3
   },
   "file_extension": ".py",
   "mimetype": "text/x-python",
   "name": "python",
   "nbconvert_exporter": "python",
   "pygments_lexer": "ipython3",
   "version": "3.12.7"
  }
 },
 "nbformat": 4,
 "nbformat_minor": 5
}
